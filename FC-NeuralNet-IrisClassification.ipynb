{
 "cells": [
  {
   "cell_type": "code",
   "execution_count": 11,
   "metadata": {},
   "outputs": [],
   "source": [
    "# Importing Libraries.\n",
    "from keras.models import Sequential\n",
    "from keras.layers import Dense\n",
    "from keras.utils import np_utils\n",
    "import numpy as np\n",
    "import pandas as pd\n",
    "\n",
    "# Importing Iris DataSet.\n",
    "columns = [\"Sepal length in cm\", \"Sepal width in cm\", \"Petal length in cm\", \"Petal width in cm\", \"class\"]\n",
    "\n",
    "training_dataset = pd.read_csv('Datasets/iris_training.csv', names=columns, header=0)\n",
    "train_x = training_dataset.iloc[:,0:4].values\n",
    "train_y = training_dataset.iloc[:,4].values\n",
    "\n",
    "test_dateset = pd.read_csv('Datasets/iris_test.csv', names=columns, header=0)\n",
    "test_x = test_dateset.iloc[:,0:4].values\n",
    "test_y = test_dateset.iloc[:,4].values"
   ]
  },
  {
   "cell_type": "code",
   "execution_count": 20,
   "metadata": {},
   "outputs": [],
   "source": [
    "# Transforming into one-hot vector by encoding train and test classes.\n",
    "encod_train_y = np_utils.to_categorical(train_y)\n",
    "encod_test_y = np_utils.to_categorical(test_y)\n",
    "\n",
    "# Creating the Model.\n",
    "model = Sequential()\n",
    "model.add(Dense(10, input_dim=4, activation='relu'))\n",
    "model.add(Dense(10, activation='relu'))\n",
    "model.add(Dense(3, activation='softmax'))\n",
    "\n",
    "#compilng model.\n",
    "model.compile(loss='categorical_crossentropy', optimizer='adam', metrics=['accuracy'])"
   ]
  },
  {
   "cell_type": "code",
   "execution_count": 22,
   "metadata": {
    "scrolled": true
   },
   "outputs": [
    {
     "name": "stdout",
     "output_type": "stream",
     "text": [
      "30/30 [==============================] - 0s 36us/step\n",
      "\n",
      "Accuracy: 96.67%\n"
     ]
    }
   ],
   "source": [
    "# Training the model.\n",
    "model.fit(train_x, encod_train_y, epochs=300, batch_size=10, verbose=False)\n",
    "\n",
    "# Evaluating\n",
    "scores = model.evaluate(test_x, encod_test_y)\n",
    "print(\"\\nAccuracy: %.2f%%\" % (scores[1]*100))"
   ]
  }
 ],
 "metadata": {
  "kernelspec": {
   "display_name": "Python 3",
   "language": "python",
   "name": "python3"
  },
  "language_info": {
   "codemirror_mode": {
    "name": "ipython",
    "version": 3
   },
   "file_extension": ".py",
   "mimetype": "text/x-python",
   "name": "python",
   "nbconvert_exporter": "python",
   "pygments_lexer": "ipython3",
   "version": "3.6.4"
  }
 },
 "nbformat": 4,
 "nbformat_minor": 2
}
